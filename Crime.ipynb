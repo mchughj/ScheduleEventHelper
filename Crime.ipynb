{
 "cells": [
  {
   "cell_type": "code",
   "execution_count": 1,
   "id": "292deca1-43eb-4e08-8e14-2321851626f7",
   "metadata": {},
   "outputs": [],
   "source": [
    "# Seattle crime data\n",
    "import pandas as pd\n",
    "import np\n"
   ]
  },
  {
   "cell_type": "code",
   "execution_count": 3,
   "id": "9e7665e1-8305-4bd4-8e64-231b86a487e0",
   "metadata": {},
   "outputs": [
    {
     "name": "stdout",
     "output_type": "stream",
     "text": [
      "Read in the crime data file; data elements: 1999\n"
     ]
    }
   ],
   "source": [
    "input_filename = \"/home/mchughj/Downloads/Call_Data_2000.csv\"\n",
    "cd = pd.read_csv(input_filename)\n",
    "\n",
    "print( f\"Read in the crime data file; data elements: {len(cd)}\")\n"
   ]
  },
  {
   "cell_type": "code",
   "execution_count": 5,
   "id": "ebc70f9b-e63a-49d2-bfa4-0345d94c572e",
   "metadata": {},
   "outputs": [
    {
     "name": "stdout",
     "output_type": "stream",
     "text": [
      "<class 'pandas.core.frame.DataFrame'>\n",
      "RangeIndex: 1999 entries, 0 to 1998\n",
      "Data columns (total 11 columns):\n",
      " #   Column                       Non-Null Count  Dtype \n",
      "---  ------                       --------------  ----- \n",
      " 0   CAD Event Number             1999 non-null   int64 \n",
      " 1   Event Clearance Description  1999 non-null   object\n",
      " 2   Call Type                    1999 non-null   object\n",
      " 3   Priority                     1999 non-null   int64 \n",
      " 4   Initial Call Type            1999 non-null   object\n",
      " 5   Final Call Type              1999 non-null   object\n",
      " 6   Original Time Queued         1999 non-null   object\n",
      " 7   Arrived Time                 1999 non-null   object\n",
      " 8   Precinct                     1999 non-null   object\n",
      " 9   Sector                       1984 non-null   object\n",
      " 10  Beat                         1999 non-null   object\n",
      "dtypes: int64(2), object(9)\n",
      "memory usage: 171.9+ KB\n"
     ]
    }
   ],
   "source": [
    "cd.info()\n"
   ]
  },
  {
   "cell_type": "code",
   "execution_count": null,
   "id": "59b3730b-0df2-414d-a0b3-a69a536b84e4",
   "metadata": {},
   "outputs": [],
   "source": []
  }
 ],
 "metadata": {
  "kernelspec": {
   "display_name": "Python 3",
   "language": "python",
   "name": "python3"
  },
  "language_info": {
   "codemirror_mode": {
    "name": "ipython",
    "version": 3
   },
   "file_extension": ".py",
   "mimetype": "text/x-python",
   "name": "python",
   "nbconvert_exporter": "python",
   "pygments_lexer": "ipython3",
   "version": "3.6.9"
  }
 },
 "nbformat": 4,
 "nbformat_minor": 5
}
